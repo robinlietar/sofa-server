{
 "cells": [
  {
   "cell_type": "code",
   "execution_count": 1,
   "metadata": {
    "collapsed": false
   },
   "outputs": [
    {
     "ename": "ImportError",
     "evalue": "No module named BeautifulSoup",
     "output_type": "error",
     "traceback": [
      "\u001b[0;31m---------------------------------------------------------------------------\u001b[0m",
      "\u001b[0;31mImportError\u001b[0m                               Traceback (most recent call last)",
      "\u001b[0;32m<ipython-input-1-cd02f7c65612>\u001b[0m in \u001b[0;36m<module>\u001b[0;34m()\u001b[0m\n\u001b[1;32m      3\u001b[0m \u001b[0;31m#Importing the modules\u001b[0m\u001b[0;34m\u001b[0m\u001b[0;34m\u001b[0m\u001b[0m\n\u001b[1;32m      4\u001b[0m \u001b[0;34m\u001b[0m\u001b[0m\n\u001b[0;32m----> 5\u001b[0;31m \u001b[0;32mfrom\u001b[0m \u001b[0mBeautifulSoup\u001b[0m \u001b[0;32mimport\u001b[0m \u001b[0mBeautifulSoup\u001b[0m\u001b[0;34m\u001b[0m\u001b[0m\n\u001b[0m\u001b[1;32m      6\u001b[0m \u001b[0;32mimport\u001b[0m \u001b[0msys\u001b[0m\u001b[0;34m\u001b[0m\u001b[0m\n\u001b[1;32m      7\u001b[0m \u001b[0;32mimport\u001b[0m \u001b[0murllib2\u001b[0m\u001b[0;34m\u001b[0m\u001b[0m\n",
      "\u001b[0;31mImportError\u001b[0m: No module named BeautifulSoup"
     ]
    }
   ],
   "source": [
    "#!/usr/bin/env python27\n",
    "\n",
    "#Importing the modules\n",
    "\n",
    "from BeautifulSoup import BeautifulSoup\n",
    "import sys\n",
    "import urllib2\n",
    "import re\n",
    "import json\n",
    "\n",
    "#Ask for movie title\n",
    "title = raw_input(\"Please enter a movie title: \")\n",
    "\n",
    "#Ask for which year\n",
    "year = raw_input(\"which year? \")\n",
    "\n",
    "#Search for spaces in the title string\n",
    "raw_string = re.compile(r' ')\n",
    "\n",
    "#Replace spaces with a plus sign\n",
    "searchstring = raw_string.sub('+', title)\n",
    "\n",
    "#Prints the search string\n",
    "print searchstring\n",
    "\n",
    "#The actual query\n",
    "url = \"http://www.imdbapi.com/?t=\" + searchstring + \"&y=\"+year\n",
    "\n",
    "request = urllib2.Request(url)\n",
    "\n",
    "response = json.load(urllib2.urlopen(request))\n",
    "\n",
    "print json.dumps(response,indent=2)"
   ]
  },
  {
   "cell_type": "code",
   "execution_count": null,
   "metadata": {
    "collapsed": true
   },
   "outputs": [],
   "source": []
  }
 ],
 "metadata": {
  "anaconda-cloud": {},
  "kernelspec": {
   "display_name": "Python [conda root]",
   "language": "python",
   "name": "conda-root-py"
  },
  "language_info": {
   "codemirror_mode": {
    "name": "ipython",
    "version": 2
   },
   "file_extension": ".py",
   "mimetype": "text/x-python",
   "name": "python",
   "nbconvert_exporter": "python",
   "pygments_lexer": "ipython2",
   "version": "2.7.9"
  }
 },
 "nbformat": 4,
 "nbformat_minor": 1
}
