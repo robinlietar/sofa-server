{
 "cells": [
  {
   "cell_type": "code",
   "execution_count": 4,
   "metadata": {
    "collapsed": false
   },
   "outputs": [
    {
     "name": "stdout",
     "output_type": "stream",
     "text": [
      "Please enter a movie title: Moonlight\n",
      "which year? 2016\n",
      "Moonlight\n"
     ]
    },
    {
     "ename": "ValueError",
     "evalue": "No JSON object could be decoded",
     "output_type": "error",
     "traceback": [
      "\u001b[0;31m---------------------------------------------------------------------------\u001b[0m",
      "\u001b[0;31mValueError\u001b[0m                                Traceback (most recent call last)",
      "\u001b[0;32m<ipython-input-4-cd02f7c65612>\u001b[0m in \u001b[0;36m<module>\u001b[0;34m()\u001b[0m\n\u001b[1;32m     29\u001b[0m \u001b[0mrequest\u001b[0m \u001b[0;34m=\u001b[0m \u001b[0murllib2\u001b[0m\u001b[0;34m.\u001b[0m\u001b[0mRequest\u001b[0m\u001b[0;34m(\u001b[0m\u001b[0murl\u001b[0m\u001b[0;34m)\u001b[0m\u001b[0;34m\u001b[0m\u001b[0m\n\u001b[1;32m     30\u001b[0m \u001b[0;34m\u001b[0m\u001b[0m\n\u001b[0;32m---> 31\u001b[0;31m \u001b[0mresponse\u001b[0m \u001b[0;34m=\u001b[0m \u001b[0mjson\u001b[0m\u001b[0;34m.\u001b[0m\u001b[0mload\u001b[0m\u001b[0;34m(\u001b[0m\u001b[0murllib2\u001b[0m\u001b[0;34m.\u001b[0m\u001b[0murlopen\u001b[0m\u001b[0;34m(\u001b[0m\u001b[0mrequest\u001b[0m\u001b[0;34m)\u001b[0m\u001b[0;34m)\u001b[0m\u001b[0;34m\u001b[0m\u001b[0m\n\u001b[0m\u001b[1;32m     32\u001b[0m \u001b[0;34m\u001b[0m\u001b[0m\n\u001b[1;32m     33\u001b[0m \u001b[0;32mprint\u001b[0m \u001b[0mjson\u001b[0m\u001b[0;34m.\u001b[0m\u001b[0mdumps\u001b[0m\u001b[0;34m(\u001b[0m\u001b[0mresponse\u001b[0m\u001b[0;34m,\u001b[0m\u001b[0mindent\u001b[0m\u001b[0;34m=\u001b[0m\u001b[0;36m2\u001b[0m\u001b[0;34m)\u001b[0m\u001b[0;34m\u001b[0m\u001b[0m\n",
      "\u001b[0;32m//anaconda/lib/python2.7/json/__init__.pyc\u001b[0m in \u001b[0;36mload\u001b[0;34m(fp, encoding, cls, object_hook, parse_float, parse_int, parse_constant, object_pairs_hook, **kw)\u001b[0m\n\u001b[1;32m    288\u001b[0m         \u001b[0mparse_float\u001b[0m\u001b[0;34m=\u001b[0m\u001b[0mparse_float\u001b[0m\u001b[0;34m,\u001b[0m \u001b[0mparse_int\u001b[0m\u001b[0;34m=\u001b[0m\u001b[0mparse_int\u001b[0m\u001b[0;34m,\u001b[0m\u001b[0;34m\u001b[0m\u001b[0m\n\u001b[1;32m    289\u001b[0m         \u001b[0mparse_constant\u001b[0m\u001b[0;34m=\u001b[0m\u001b[0mparse_constant\u001b[0m\u001b[0;34m,\u001b[0m \u001b[0mobject_pairs_hook\u001b[0m\u001b[0;34m=\u001b[0m\u001b[0mobject_pairs_hook\u001b[0m\u001b[0;34m,\u001b[0m\u001b[0;34m\u001b[0m\u001b[0m\n\u001b[0;32m--> 290\u001b[0;31m         **kw)\n\u001b[0m\u001b[1;32m    291\u001b[0m \u001b[0;34m\u001b[0m\u001b[0m\n\u001b[1;32m    292\u001b[0m \u001b[0;34m\u001b[0m\u001b[0m\n",
      "\u001b[0;32m//anaconda/lib/python2.7/json/__init__.pyc\u001b[0m in \u001b[0;36mloads\u001b[0;34m(s, encoding, cls, object_hook, parse_float, parse_int, parse_constant, object_pairs_hook, **kw)\u001b[0m\n\u001b[1;32m    336\u001b[0m             \u001b[0mparse_int\u001b[0m \u001b[0;32mis\u001b[0m \u001b[0mNone\u001b[0m \u001b[0;32mand\u001b[0m \u001b[0mparse_float\u001b[0m \u001b[0;32mis\u001b[0m \u001b[0mNone\u001b[0m \u001b[0;32mand\u001b[0m\u001b[0;34m\u001b[0m\u001b[0m\n\u001b[1;32m    337\u001b[0m             parse_constant is None and object_pairs_hook is None and not kw):\n\u001b[0;32m--> 338\u001b[0;31m         \u001b[0;32mreturn\u001b[0m \u001b[0m_default_decoder\u001b[0m\u001b[0;34m.\u001b[0m\u001b[0mdecode\u001b[0m\u001b[0;34m(\u001b[0m\u001b[0ms\u001b[0m\u001b[0;34m)\u001b[0m\u001b[0;34m\u001b[0m\u001b[0m\n\u001b[0m\u001b[1;32m    339\u001b[0m     \u001b[0;32mif\u001b[0m \u001b[0mcls\u001b[0m \u001b[0;32mis\u001b[0m \u001b[0mNone\u001b[0m\u001b[0;34m:\u001b[0m\u001b[0;34m\u001b[0m\u001b[0m\n\u001b[1;32m    340\u001b[0m         \u001b[0mcls\u001b[0m \u001b[0;34m=\u001b[0m \u001b[0mJSONDecoder\u001b[0m\u001b[0;34m\u001b[0m\u001b[0m\n",
      "\u001b[0;32m//anaconda/lib/python2.7/json/decoder.pyc\u001b[0m in \u001b[0;36mdecode\u001b[0;34m(self, s, _w)\u001b[0m\n\u001b[1;32m    364\u001b[0m \u001b[0;34m\u001b[0m\u001b[0m\n\u001b[1;32m    365\u001b[0m         \"\"\"\n\u001b[0;32m--> 366\u001b[0;31m         \u001b[0mobj\u001b[0m\u001b[0;34m,\u001b[0m \u001b[0mend\u001b[0m \u001b[0;34m=\u001b[0m \u001b[0mself\u001b[0m\u001b[0;34m.\u001b[0m\u001b[0mraw_decode\u001b[0m\u001b[0;34m(\u001b[0m\u001b[0ms\u001b[0m\u001b[0;34m,\u001b[0m \u001b[0midx\u001b[0m\u001b[0;34m=\u001b[0m\u001b[0m_w\u001b[0m\u001b[0;34m(\u001b[0m\u001b[0ms\u001b[0m\u001b[0;34m,\u001b[0m \u001b[0;36m0\u001b[0m\u001b[0;34m)\u001b[0m\u001b[0;34m.\u001b[0m\u001b[0mend\u001b[0m\u001b[0;34m(\u001b[0m\u001b[0;34m)\u001b[0m\u001b[0;34m)\u001b[0m\u001b[0;34m\u001b[0m\u001b[0m\n\u001b[0m\u001b[1;32m    367\u001b[0m         \u001b[0mend\u001b[0m \u001b[0;34m=\u001b[0m \u001b[0m_w\u001b[0m\u001b[0;34m(\u001b[0m\u001b[0ms\u001b[0m\u001b[0;34m,\u001b[0m \u001b[0mend\u001b[0m\u001b[0;34m)\u001b[0m\u001b[0;34m.\u001b[0m\u001b[0mend\u001b[0m\u001b[0;34m(\u001b[0m\u001b[0;34m)\u001b[0m\u001b[0;34m\u001b[0m\u001b[0m\n\u001b[1;32m    368\u001b[0m         \u001b[0;32mif\u001b[0m \u001b[0mend\u001b[0m \u001b[0;34m!=\u001b[0m \u001b[0mlen\u001b[0m\u001b[0;34m(\u001b[0m\u001b[0ms\u001b[0m\u001b[0;34m)\u001b[0m\u001b[0;34m:\u001b[0m\u001b[0;34m\u001b[0m\u001b[0m\n",
      "\u001b[0;32m//anaconda/lib/python2.7/json/decoder.pyc\u001b[0m in \u001b[0;36mraw_decode\u001b[0;34m(self, s, idx)\u001b[0m\n\u001b[1;32m    382\u001b[0m             \u001b[0mobj\u001b[0m\u001b[0;34m,\u001b[0m \u001b[0mend\u001b[0m \u001b[0;34m=\u001b[0m \u001b[0mself\u001b[0m\u001b[0;34m.\u001b[0m\u001b[0mscan_once\u001b[0m\u001b[0;34m(\u001b[0m\u001b[0ms\u001b[0m\u001b[0;34m,\u001b[0m \u001b[0midx\u001b[0m\u001b[0;34m)\u001b[0m\u001b[0;34m\u001b[0m\u001b[0m\n\u001b[1;32m    383\u001b[0m         \u001b[0;32mexcept\u001b[0m \u001b[0mStopIteration\u001b[0m\u001b[0;34m:\u001b[0m\u001b[0;34m\u001b[0m\u001b[0m\n\u001b[0;32m--> 384\u001b[0;31m             \u001b[0;32mraise\u001b[0m \u001b[0mValueError\u001b[0m\u001b[0;34m(\u001b[0m\u001b[0;34m\"No JSON object could be decoded\"\u001b[0m\u001b[0;34m)\u001b[0m\u001b[0;34m\u001b[0m\u001b[0m\n\u001b[0m\u001b[1;32m    385\u001b[0m         \u001b[0;32mreturn\u001b[0m \u001b[0mobj\u001b[0m\u001b[0;34m,\u001b[0m \u001b[0mend\u001b[0m\u001b[0;34m\u001b[0m\u001b[0m\n",
      "\u001b[0;31mValueError\u001b[0m: No JSON object could be decoded"
     ]
    }
   ],
   "source": [
    "#!/usr/bin/env python27\n",
    "\n",
    "#Importing the modules\n",
    "\n",
    "from BeautifulSoup import BeautifulSoup\n",
    "import sys\n",
    "import urllib2\n",
    "import re\n",
    "import json\n",
    "\n",
    "#Ask for movie title\n",
    "title = raw_input(\"Please enter a movie title: \")\n",
    "\n",
    "#Ask for which year\n",
    "year = raw_input(\"which year? \")\n",
    "\n",
    "#Search for spaces in the title string\n",
    "raw_string = re.compile(r' ')\n",
    "\n",
    "#Replace spaces with a plus sign\n",
    "searchstring = raw_string.sub('+', title)\n",
    "\n",
    "#Prints the search string\n",
    "print searchstring\n",
    "\n",
    "#The actual query\n",
    "url = \"http://www.omdbapi.com/?t=\" + searchstring + \"&y=\"+year\n",
    "\n",
    "request = urllib2.Request(url)\n",
    "\n",
    "response = json.load(urllib2.urlopen(request))\n",
    "\n",
    "print json.dumps(response,indent=2)"
   ]
  },
  {
   "cell_type": "code",
   "execution_count": 7,
   "metadata": {
    "collapsed": false
   },
   "outputs": [
    {
     "ename": "NameError",
     "evalue": "name 'tt0416449' is not defined",
     "output_type": "error",
     "traceback": [
      "\u001b[0;31m---------------------------------------------------------------------------\u001b[0m",
      "\u001b[0;31mNameError\u001b[0m                                 Traceback (most recent call last)",
      "\u001b[0;32m<ipython-input-7-9b033f5de1ce>\u001b[0m in \u001b[0;36m<module>\u001b[0;34m()\u001b[0m\n\u001b[1;32m     77\u001b[0m \u001b[0;34m\u001b[0m\u001b[0m\n\u001b[1;32m     78\u001b[0m \u001b[0;32mif\u001b[0m \u001b[0m__name__\u001b[0m \u001b[0;34m==\u001b[0m \u001b[0;34m\"__main__\"\u001b[0m\u001b[0;34m:\u001b[0m\u001b[0;34m\u001b[0m\u001b[0m\n\u001b[0;32m---> 79\u001b[0;31m     \u001b[0;32mprint\u001b[0m \u001b[0mmain\u001b[0m\u001b[0;34m(\u001b[0m\u001b[0mtt0416449\u001b[0m\u001b[0;34m)\u001b[0m\u001b[0;34m\u001b[0m\u001b[0m\n\u001b[0m",
      "\u001b[0;31mNameError\u001b[0m: name 'tt0416449' is not defined"
     ]
    }
   ],
   "source": [
    "#!/usr/bin/env python\n",
    "\n",
    "import sys\n",
    "import requests\n",
    "import lxml.html\n",
    "\n",
    "def main(id):\n",
    "    hxs = lxml.html.document_fromstring(requests.get(\"http://www.imdb.com/title/\" + id).content)\n",
    "    movie = {}\n",
    "    try:\n",
    "        movie['title'] = hxs.xpath('//*[@id=\"overview-top\"]/h1/span[1]/text()')[0].strip()\n",
    "    except IndexError:\n",
    "        movie['title']\n",
    "    try:\n",
    "        movie['year'] = hxs.xpath('//*[@id=\"overview-top\"]/h1/span[2]/a/text()')[0].strip()\n",
    "    except IndexError:\n",
    "        try:\n",
    "            movie['year'] = hxs.xpath('//*[@id=\"overview-top\"]/h1/span[3]/a/text()')[0].strip()\n",
    "        except IndexError:\n",
    "            movie['year'] = \"\"\n",
    "    try:\n",
    "        movie['certification'] = hxs.xpath('//*[@id=\"overview-top\"]/div[2]/span[1]/@title')[0].strip()\n",
    "    except IndexError:\n",
    "        movie['certification'] = \"\"\n",
    "    try:\n",
    "        movie['running_time'] = hxs.xpath('//*[@id=\"overview-top\"]/div[2]/time/text()')[0].strip()\n",
    "    except IndexError:\n",
    "        movie['running_time'] = \"\"\n",
    "    try:\n",
    "        movie['genre'] = hxs.xpath('//*[@id=\"overview-top\"]/div[2]/a/span/text()')\n",
    "    except IndexError:\n",
    "        movie['genre'] = []\n",
    "    try:\n",
    "        movie['release_date'] = hxs.xpath('//*[@id=\"overview-top\"]/div[2]/span[3]/a/text()')[0].strip()\n",
    "    except IndexError:\n",
    "        try:\n",
    "            movie['release_date'] = hxs.xpath('//*[@id=\"overview-top\"]/div[2]/span[4]/a/text()')[0].strip()\n",
    "        except Exception:\n",
    "            movie['release_date'] = \"\"\n",
    "    try:\n",
    "        movie['rating'] = hxs.xpath('//*[@id=\"overview-top\"]/div[3]/div[3]/strong/span/text()')[0]\n",
    "    except IndexError:\n",
    "        movie['rating'] = \"\"\n",
    "    try:\n",
    "        movie['metascore'] = hxs.xpath('//*[@id=\"overview-top\"]/div[3]/div[3]/a[2]/text()')[0].strip().split('/')[0]\n",
    "    except IndexError:\n",
    "        movie['metascore'] = 0\n",
    "    try:\n",
    "        movie['description'] = hxs.xpath('//*[@id=\"overview-top\"]/p[2]/text()')[0].strip()\n",
    "    except IndexError:\n",
    "        movie['description'] = \"\"\n",
    "    try:\n",
    "        movie['director'] = hxs.xpath('//*[@id=\"overview-top\"]/div[4]/a/span/text()')[0].strip()\n",
    "    except IndexError:\n",
    "        movie['director'] = \"\"\n",
    "    try:\n",
    "        movie['stars'] = hxs.xpath('//*[@id=\"overview-top\"]/div[6]/a/span/text()')\n",
    "    except IndexError:\n",
    "        movie['stars'] = \"\"\n",
    "    try:\n",
    "        movie['poster'] = hxs.xpath('//*[@id=\"img_primary\"]/div/a/img/@src')[0]\n",
    "    except IndexError:\n",
    "        movie['poster'] = \"\"\n",
    "    try:\n",
    "        movie['gallery'] = hxs.xpath('//*[@id=\"combined-photos\"]/div/a/img/@src')\n",
    "    except IndexError:\n",
    "        movie['gallery'] = \"\"\n",
    "    try:\n",
    "        movie['storyline'] = hxs.xpath('//*[@id=\"titleStoryLine\"]/div[1]/p/text()')[0].strip()\n",
    "    except IndexError:\n",
    "        movie['storyline'] = \"\"\n",
    "    try:\n",
    "        movie['votes'] = hxs.xpath('//*[@id=\"overview-top\"]/div[3]/div[3]/a[1]/span/text()')[0].strip()\n",
    "    except IndexError:\n",
    "        movie['votes'] = \"\"\n",
    "    return movie\n",
    "\n",
    "if __name__ == \"__main__\":\n",
    "    print main('tt0416449')"
   ]
  },
  {
   "cell_type": "code",
   "execution_count": 8,
   "metadata": {
    "collapsed": false
   },
   "outputs": [
    {
     "name": "stdout",
     "output_type": "stream",
     "text": [
      "<Element html at 0x10459c788>\n"
     ]
    }
   ],
   "source": [
    "id = 'tt0416449'\n",
    "hxs = lxml.html.document_fromstring(requests.get(\"http://www.imdb.com/title/\" + id).content)\n",
    "print(hxs)\n"
   ]
  },
  {
   "cell_type": "code",
   "execution_count": null,
   "metadata": {
    "collapsed": true
   },
   "outputs": [],
   "source": []
  }
 ],
 "metadata": {
  "anaconda-cloud": {},
  "kernelspec": {
   "display_name": "Python [default]",
   "language": "python",
   "name": "python2"
  },
  "language_info": {
   "codemirror_mode": {
    "name": "ipython",
    "version": 2
   },
   "file_extension": ".py",
   "mimetype": "text/x-python",
   "name": "python",
   "nbconvert_exporter": "python",
   "pygments_lexer": "ipython2",
   "version": "2.7.9"
  }
 },
 "nbformat": 4,
 "nbformat_minor": 1
}
