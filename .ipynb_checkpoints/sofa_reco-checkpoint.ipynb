{
 "cells": [
  {
   "cell_type": "code",
   "execution_count": 2,
   "metadata": {
    "collapsed": false
   },
   "outputs": [],
   "source": [
    "# %load sofa_reco.py\n",
    "#==============================================================================\n",
    "# Import and global variables\n",
    "#==============================================================================\n",
    "import math\n",
    "from blist import sortedlist\n",
    "from sofa_db import DBManager, Genre\n",
    "\n",
    "#==============================================================================\n",
    "# Optimizer class\n",
    "#==============================================================================\n",
    "\n",
    "class Recommender():\n",
    "    def __init__(self, genres=Genre.__genres__):\n",
    "        self.db_manager = DBManager()\n",
    "        self.genres = genres\n",
    "        self.coef = [0.144, 0.187, 0.037, 0.092, 0.095, 0.086, 0.104, 0.032, \n",
    "                     0.078, 0.081, 0.063]\n",
    "    \n",
    "    @property\n",
    "    def films(self):\n",
    "        return self.db_manager.query_films()\n",
    "    \n",
    "    def get_ratings(self, titles):\n",
    "        return self.db_manager.query_films_ratings(titles)\n",
    "    \n",
    "    def get_user_classes(self, people):\n",
    "        return self.db_manager.get_user_classes(people)\n",
    "    \n",
    "    def get_people_films(self, people):\n",
    "        return self.db_manager.get_people_film(people)\n",
    "        \n",
    "    def recommend(self, ratings, people):\n",
    "        genres_ratings = [sum(self.coef[i]*r[i] for r in ratings)\n",
    "                       for i in range(0, len(self.genres))]\n",
    "        result = sortedlist([('null', -1)] * 100, key=lambda x: x[1])\n",
    "        lfilms, dfilms = self.get_people_films(people)\n",
    "        if len(people)==1:\n",
    "            banned = [f.id for f in lfilms] + [f.id for f in dfilms]\n",
    "        else:\n",
    "            banned = [f.id for f in dfilms]\n",
    "        session, films = self.films\n",
    "        for f in films:\n",
    "            if f.id not in banned:\n",
    "                frate = sum([float(j)*genres_ratings[i]\n",
    "                             for i, j in enumerate(f.genres)])\n",
    "                nb_genres = sum([math.ceil(float(i)) for i in f.genres])\n",
    "                if nb_genres:\n",
    "                    frate = frate / nb_genres if nb_genres < 3 else frate / 3\n",
    "                    if frate > result[0][1]:\n",
    "                        f.mark = 0\n",
    "                        result.pop(0)\n",
    "                        result.add((f, frate))\n",
    "        session.close()\n",
    "        user_classes = self.get_user_classes(people)\n",
    "        films = {f[0].title: f[0] for f in result}\n",
    "        if len(people) > 1:\n",
    "            for f in lfilms:\n",
    "                f.mark = 0\n",
    "                films[f.title] = f\n",
    "        session, rtgs = self.get_ratings(films.keys())\n",
    "        for rtg in rtgs:\n",
    "            films[rtg.title].mark += user_classes[rtg.class_id]*rtg.rate\n",
    "        result = [(f.title, f.poster, f.id, f.mark) for f in films.values()]\n",
    "        result = sorted(result, key=lambda x: x[3])[-10:]\n",
    "        session.close()\n",
    "        return list(result)"
   ]
  },
  {
   "cell_type": "code",
   "execution_count": 5,
   "metadata": {
    "collapsed": false
   },
   "outputs": [
    {
     "data": {
      "text/plain": [
       "<class __main__.Recommender at 0x104707940>"
      ]
     },
     "execution_count": 5,
     "metadata": {},
     "output_type": "execute_result"
    }
   ],
   "source": []
  },
  {
   "cell_type": "code",
   "execution_count": null,
   "metadata": {
    "collapsed": true
   },
   "outputs": [],
   "source": []
  }
 ],
 "metadata": {
  "anaconda-cloud": {},
  "kernelspec": {
   "display_name": "Python [default]",
   "language": "python",
   "name": "python2"
  },
  "language_info": {
   "codemirror_mode": {
    "name": "ipython",
    "version": 2
   },
   "file_extension": ".py",
   "mimetype": "text/x-python",
   "name": "python",
   "nbconvert_exporter": "python",
   "pygments_lexer": "ipython2",
   "version": "2.7.12"
  }
 },
 "nbformat": 4,
 "nbformat_minor": 0
}
